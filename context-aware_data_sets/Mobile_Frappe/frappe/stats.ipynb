{
 "cells": [
  {
   "cell_type": "markdown",
   "metadata": {},
   "source": [
    "# Frappe data set stats #\n",
    "In this notebook we will compute some basic data set statistics"
   ]
  },
  {
   "cell_type": "code",
   "execution_count": 1,
   "metadata": {
    "collapsed": true
   },
   "outputs": [],
   "source": [
    "import pandas"
   ]
  },
  {
   "cell_type": "code",
   "execution_count": 2,
   "metadata": {
    "collapsed": false
   },
   "outputs": [
    {
     "data": {
      "text/html": [
       "<div style=\"max-height:1000px;max-width:1500px;overflow:auto;\">\n",
       "<table border=\"1\" class=\"dataframe\">\n",
       "  <thead>\n",
       "    <tr style=\"text-align: right;\">\n",
       "      <th></th>\n",
       "      <th>user</th>\n",
       "      <th>item</th>\n",
       "      <th>cnt</th>\n",
       "      <th>daytime</th>\n",
       "      <th>weekday</th>\n",
       "      <th>isweekend</th>\n",
       "      <th>homework</th>\n",
       "      <th>cost</th>\n",
       "      <th>weather</th>\n",
       "      <th>country</th>\n",
       "      <th>city</th>\n",
       "    </tr>\n",
       "  </thead>\n",
       "  <tbody>\n",
       "    <tr>\n",
       "      <th>0</th>\n",
       "      <td>0</td>\n",
       "      <td>0</td>\n",
       "      <td>1</td>\n",
       "      <td>morning</td>\n",
       "      <td>sunday</td>\n",
       "      <td>weekend</td>\n",
       "      <td>unknown</td>\n",
       "      <td>free</td>\n",
       "      <td>sunny</td>\n",
       "      <td>United States</td>\n",
       "      <td>0</td>\n",
       "    </tr>\n",
       "    <tr>\n",
       "      <th>1</th>\n",
       "      <td>1</td>\n",
       "      <td>1</td>\n",
       "      <td>7</td>\n",
       "      <td>afternoon</td>\n",
       "      <td>saturday</td>\n",
       "      <td>weekend</td>\n",
       "      <td>unknown</td>\n",
       "      <td>free</td>\n",
       "      <td>cloudy</td>\n",
       "      <td>Spain</td>\n",
       "      <td>0</td>\n",
       "    </tr>\n",
       "    <tr>\n",
       "      <th>2</th>\n",
       "      <td>2</td>\n",
       "      <td>2</td>\n",
       "      <td>6</td>\n",
       "      <td>evening</td>\n",
       "      <td>monday</td>\n",
       "      <td>workday</td>\n",
       "      <td>unknown</td>\n",
       "      <td>free</td>\n",
       "      <td>cloudy</td>\n",
       "      <td>Spain</td>\n",
       "      <td>369</td>\n",
       "    </tr>\n",
       "    <tr>\n",
       "      <th>3</th>\n",
       "      <td>3</td>\n",
       "      <td>3</td>\n",
       "      <td>1</td>\n",
       "      <td>sunset</td>\n",
       "      <td>thursday</td>\n",
       "      <td>workday</td>\n",
       "      <td>unknown</td>\n",
       "      <td>free</td>\n",
       "      <td>unknown</td>\n",
       "      <td>United States</td>\n",
       "      <td>1028</td>\n",
       "    </tr>\n",
       "    <tr>\n",
       "      <th>4</th>\n",
       "      <td>4</td>\n",
       "      <td>4</td>\n",
       "      <td>428</td>\n",
       "      <td>night</td>\n",
       "      <td>thursday</td>\n",
       "      <td>workday</td>\n",
       "      <td>home</td>\n",
       "      <td>free</td>\n",
       "      <td>sunny</td>\n",
       "      <td>Switzerland</td>\n",
       "      <td>147</td>\n",
       "    </tr>\n",
       "  </tbody>\n",
       "</table>\n",
       "</div>"
      ],
      "text/plain": [
       "   user  item  cnt    daytime   weekday isweekend homework  cost  weather  \\\n",
       "0     0     0    1    morning    sunday   weekend  unknown  free    sunny   \n",
       "1     1     1    7  afternoon  saturday   weekend  unknown  free   cloudy   \n",
       "2     2     2    6    evening    monday   workday  unknown  free   cloudy   \n",
       "3     3     3    1     sunset  thursday   workday  unknown  free  unknown   \n",
       "4     4     4  428      night  thursday   workday     home  free    sunny   \n",
       "\n",
       "         country  city  \n",
       "0  United States     0  \n",
       "1          Spain     0  \n",
       "2          Spain   369  \n",
       "3  United States  1028  \n",
       "4    Switzerland   147  "
      ]
     },
     "execution_count": 2,
     "metadata": {},
     "output_type": "execute_result"
    }
   ],
   "source": [
    "df = pandas.read_csv('frappe.csv', sep=\"\\t\")\n",
    "df.head()"
   ]
  },
  {
   "cell_type": "code",
   "execution_count": 3,
   "metadata": {
    "collapsed": false
   },
   "outputs": [
    {
     "name": "stdout",
     "output_type": "stream",
     "text": [
      "In the frappe data set we have 96203 entries by 957 users for 4082 apps\n"
     ]
    }
   ],
   "source": [
    "print \"In the frappe data set we have {} entries by {} users for {} apps\".format(len(df), len(df.user.unique()), len(df.item.unique()))"
   ]
  },
  {
   "cell_type": "markdown",
   "metadata": {},
   "source": [
    "The **cnt** column indicates how many times an application was used in a given context by a given user. For example, at line 0, the user0 used item1 once during Friday afternoon when it was cloudy. The user was in an unknown Spanish city.\n",
    "\n",
    "Please read the paper for further details of the data set, or write questions to linas.baltrunas@gmail.com. Note, that the released data set only approximateley match the data set described in the paper. We removed some users and new users joined since the paper was written. "
   ]
  },
  {
   "cell_type": "code",
   "execution_count": 6,
   "metadata": {
    "collapsed": false
   },
   "outputs": [],
   "source": [
    "meta_app = pandas.read_csv('meta.csv', sep=\"\\t\")"
   ]
  },
  {
   "cell_type": "code",
   "execution_count": 7,
   "metadata": {
    "collapsed": false
   },
   "outputs": [],
   "source": [
    "df = df.merge(meta_app, on='item')"
   ]
  },
  {
   "cell_type": "code",
   "execution_count": 8,
   "metadata": {
    "collapsed": false
   },
   "outputs": [
    {
     "data": {
      "text/html": [
       "<div style=\"max-height:1000px;max-width:1500px;overflow:auto;\">\n",
       "<table border=\"1\" class=\"dataframe\">\n",
       "  <thead>\n",
       "    <tr style=\"text-align: right;\">\n",
       "      <th></th>\n",
       "      <th>user</th>\n",
       "      <th>item</th>\n",
       "      <th>cnt</th>\n",
       "      <th>daytime</th>\n",
       "      <th>weekday</th>\n",
       "      <th>isweekend</th>\n",
       "      <th>homework</th>\n",
       "      <th>cost</th>\n",
       "      <th>weather</th>\n",
       "      <th>country</th>\n",
       "      <th>...</th>\n",
       "      <th>category</th>\n",
       "      <th>downloads</th>\n",
       "      <th>developer</th>\n",
       "      <th>icon</th>\n",
       "      <th>language</th>\n",
       "      <th>description</th>\n",
       "      <th>name</th>\n",
       "      <th>price</th>\n",
       "      <th>rating</th>\n",
       "      <th>short desc</th>\n",
       "    </tr>\n",
       "  </thead>\n",
       "  <tbody>\n",
       "    <tr>\n",
       "      <th>0</th>\n",
       "      <td>0</td>\n",
       "      <td>0</td>\n",
       "      <td>1</td>\n",
       "      <td>morning</td>\n",
       "      <td>sunday</td>\n",
       "      <td>weekend</td>\n",
       "      <td>unknown</td>\n",
       "      <td>free</td>\n",
       "      <td>sunny</td>\n",
       "      <td>United States</td>\n",
       "      <td>...</td>\n",
       "      <td>Productivity</td>\n",
       "      <td>1,000,000 - 5,000,000</td>\n",
       "      <td>Any.DO</td>\n",
       "      <td>http://d2lh3rxs7crswz.cloudfront.net/com.anydo...</td>\n",
       "      <td>en</td>\n",
       "      <td>Meet Any.DO, the best way to-do To-do's on And...</td>\n",
       "      <td>Any.DO To-do &amp; Tasks List</td>\n",
       "      <td>Free</td>\n",
       "      <td>4.5</td>\n",
       "      <td>Any.DO helps you remember everything you have ...</td>\n",
       "    </tr>\n",
       "  </tbody>\n",
       "</table>\n",
       "<p>1 rows × 22 columns</p>\n",
       "</div>"
      ],
      "text/plain": [
       "   user  item  cnt  daytime weekday isweekend homework  cost weather  \\\n",
       "0     0     0    1  morning  sunday   weekend  unknown  free   sunny   \n",
       "\n",
       "         country                        ...                          \\\n",
       "0  United States                        ...                           \n",
       "\n",
       "       category              downloads developer  \\\n",
       "0  Productivity  1,000,000 - 5,000,000    Any.DO   \n",
       "\n",
       "                                                icon language  \\\n",
       "0  http://d2lh3rxs7crswz.cloudfront.net/com.anydo...       en   \n",
       "\n",
       "                                         description  \\\n",
       "0  Meet Any.DO, the best way to-do To-do's on And...   \n",
       "\n",
       "                        name price rating  \\\n",
       "0  Any.DO To-do & Tasks List  Free    4.5   \n",
       "\n",
       "                                          short desc  \n",
       "0  Any.DO helps you remember everything you have ...  \n",
       "\n",
       "[1 rows x 22 columns]"
      ]
     },
     "execution_count": 8,
     "metadata": {},
     "output_type": "execute_result"
    }
   ],
   "source": [
    "df.head(n=1)"
   ]
  },
  {
   "cell_type": "code",
   "execution_count": 9,
   "metadata": {
    "collapsed": false
   },
   "outputs": [
    {
     "data": {
      "text/plain": [
       "Facebook              6430\n",
       "unknown               6153\n",
       "Gmail                 5840\n",
       "WhatsApp Messenger    5563\n",
       "Chrome                5378\n",
       "dtype: int64"
      ]
     },
     "execution_count": 9,
     "metadata": {},
     "output_type": "execute_result"
    }
   ],
   "source": [
    "df.name.value_counts()[:5] #most used apps"
   ]
  },
  {
   "cell_type": "code",
   "execution_count": null,
   "metadata": {
    "collapsed": true
   },
   "outputs": [],
   "source": []
  }
 ],
 "metadata": {
  "kernelspec": {
   "display_name": "Python 2",
   "language": "python",
   "name": "python2"
  },
  "language_info": {
   "codemirror_mode": {
    "name": "ipython",
    "version": 2
   },
   "file_extension": ".py",
   "mimetype": "text/x-python",
   "name": "python",
   "nbconvert_exporter": "python",
   "pygments_lexer": "ipython2",
   "version": "2.7.9"
  }
 },
 "nbformat": 4,
 "nbformat_minor": 0
}
